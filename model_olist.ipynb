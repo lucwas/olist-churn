{
 "metadata": {
  "language_info": {
   "codemirror_mode": {
    "name": "ipython",
    "version": 3
   },
   "file_extension": ".py",
   "mimetype": "text/x-python",
   "name": "python",
   "nbconvert_exporter": "python",
   "pygments_lexer": "ipython3",
   "version": 3
  },
  "orig_nbformat": 2
 },
 "nbformat": 4,
 "nbformat_minor": 2,
 "cells": [
  {
   "source": [
    "base ativa: vendedores que fizeram ao menos 1 venda nos ultimos 90 dias\n",
    "\n",
    "churn: cliente (vendedor aqui) sai da base ativa\n",
    "\n",
    "nas \"fotos\" que tiramos só vai ter a base ativa\n",
    "\n",
    "no modelo deste projeto, fazemos o ETL no cluster, mas treinamos o modelo localmente como forma de diminuir custos.\n"
   ],
   "cell_type": "markdown",
   "metadata": {}
  },
  {
   "cell_type": "code",
   "execution_count": null,
   "metadata": {},
   "outputs": [],
   "source": []
  }
 ]
}